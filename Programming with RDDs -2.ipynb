{

 "cells": [

  {

   "cell_type": "markdown",

   "metadata": {},

   "source": [

    "#### Transformations "

   ]

  },

  {

   "cell_type": "markdown",

   "metadata": {},

   "source": [

    "map vs flatmap"

   ]

  },

  {

   "cell_type": "code",

   "execution_count": 1,

   "metadata": {},

   "outputs": [

    {

     "data": {

      "text/plain": [

       "[1, 4, 9, 16]"

      ]

     },

     "execution_count": 1,

     "metadata": {},

     "output_type": "execute_result"

    }

   ],

   "source": [

    "#map works on element wise\n",

    "nums = sc.parallelize([1,2,3,4])\n",

    "squaredRDD = nums.map(lambda x : x*x)\n",

    "squaredRDD.collect()"

   ]

  },

  {

   "cell_type": "markdown",

   "metadata": {},

   "source": [

    "notice that map produces same number of output elements as in the RDD . <br>Sometimes we want to produce multiple number of output elements as in the input elememts . "

   ]

  },

  {

   "cell_type": "code",

   "execution_count": 3,

   "metadata": {},

   "outputs": [

    {

     "data": {

      "text/plain": [

       "['Hello', 'Paritosh', 'how', 'you', 'are', 'doing']"

      ]

     },

     "execution_count": 3,

     "metadata": {},

     "output_type": "execute_result"

    }

   ],

   "source": [

    "#flatmap\n",

    "#as the name suggests flatmap , maps the elemnsts and then flattens it.\n",

    "lines = sc.parallelize(['Hello Paritosh','how you are doing'])\n",

    "wordsRDD = lines.flatMap(lambda x :x.split(\" \"))\n",

    "wordsRDD.collect()"

   ]

  },

  {

   "cell_type": "markdown",

   "metadata": {},

   "source": [

    "For the above scenario , If we use map "

   ]

  },

  {

   "cell_type": "code",

   "execution_count": 18,

   "metadata": {},

   "outputs": [

    {

     "name": "stdout",

     "output_type": "stream",

     "text": [

      "Before flattening\n",

      "[['Hello', 'Paritosh'], ['how', 'you', 'are', 'doing']]\n",

      "After flattening\n"

     ]

    },

    {

     "data": {

      "text/plain": [

       "['Hello', 'Paritosh', 'how', 'you', 'are', 'doing']"

      ]

     },

     "execution_count": 18,

     "metadata": {},

     "output_type": "execute_result"

    }

   ],

   "source": [

    "lines = sc.parallelize(['Hello Paritosh','how you are doing'])\n",

    "wordsRDD = lines.map(lambda x :x.split(\" \"))\n",

    "sample = wordsRDD.collect()\n",

    "print 'Before flattening'\n",

    "print sample\n",

    "test = [word for list in sample for word in list]\n",

    "print 'After flattening'\n",

    "test"

   ]

  },

  {

   "cell_type": "markdown",

   "metadata": {},

   "source": [

    "#### Pseudo Set Operations"

   ]

  },

  {

   "cell_type": "markdown",

   "metadata": {},

   "source": [

    "###### Sample Set Operations"

   ]

  },

  {

   "cell_type": "code",

   "execution_count": 19,

   "metadata": {},

   "outputs": [],

   "source": [

    "rdd1 = sc.parallelize(['coffee','coffee','panda','monkey','tea'])\n",

    "rdd2 = sc.parallelize(['coffee','monkey','kitty'])"

   ]

  },

  {

   "cell_type": "code",

   "execution_count": 21,

   "metadata": {},

   "outputs": [

    {

     "data": {

      "text/plain": [

       "['coffee', 'coffee', 'panda', 'monkey', 'tea', 'coffee', 'monkey', 'kitty']"

      ]

     },

     "execution_count": 21,

     "metadata": {},

     "output_type": "execute_result"

    }

   ],

   "source": [

    "#union\n",

    "#contains duplicates\n",

    "#similar to union all in sql\n",

    "#faster , as shuffle is not required\n",

    "\n",

    "unionRDD = rdd1.union(rdd2)\n",

    "unionRDD.collect()"

   ]

  },

  {

   "cell_type": "code",

   "execution_count": 22,

   "metadata": {},

   "outputs": [

    {

     "data": {

      "text/plain": [

       "['monkey', 'coffee']"

      ]

     },

     "execution_count": 22,

     "metadata": {},

     "output_type": "execute_result"

    }

   ],

   "source": [

    "#intersection\n",

    "#no duplicates\n",

    "#worst performance , as shuffle happens across nodes to avoid duplicates\n",

    "\n",

    "interRDD = rdd1.intersection(rdd2)\n",

    "interRDD.collect()"

   ]

  },

  {

   "cell_type": "code",

   "execution_count": 23,

   "metadata": {},

   "outputs": [

    {

     "data": {

      "text/plain": [

       "['tea', 'panda']"

      ]

     },

     "execution_count": 23,

     "metadata": {},

     "output_type": "execute_result"

    }

   ],

   "source": [

    "#subtract\n",

    "#no duplicates\n",

    "#perform shuffle , worst performance\n",

    "\n",

    "subRDD = rdd1.subtract(rdd2)\n",

    "subRDD.collect()"

   ]

  },

  {

   "cell_type": "code",

   "execution_count": 24,

   "metadata": {},

   "outputs": [

    {

     "data": {

      "text/plain": [

       "['coffee', 'tea', 'panda', 'monkey']"

      ]

     },

     "execution_count": 24,

     "metadata": {},

     "output_type": "execute_result"

    }

   ],

   "source": [

    "#distinct\n",

    "#shuffle\n",

    "\n",

    "distinctRDD = rdd1.distinct()\n",

    "distinctRDD.collect()"

   ]

  },

  {

   "cell_type": "markdown",

   "metadata": {},

   "source": [

    "<b>Important note</b>: The important mathetmatical set property , <u>Uniqueness of elemets</u>\n",

    "is missing in RDD.<br>\n",

    "We can achieve uniqueness by using distinct() method , BUT its very expensive as it requires shuffleing ."

   ]

  },

  {

   "cell_type": "code",

   "execution_count": 28,

   "metadata": {},

   "outputs": [

    {

     "data": {

      "text/plain": [

       "[('coffee', 'coffee'),\n",

       " ('coffee', 'coffee'),\n",

       " ('coffee', 'monkey'),\n",

       " ('coffee', 'monkey'),\n",

       " ('coffee', 'kitty'),\n",

       " ('coffee', 'kitty'),\n",

       " ('panda', 'coffee'),\n",

       " ('monkey', 'coffee'),\n",

       " ('tea', 'coffee'),\n",

       " ('panda', 'monkey'),\n",

       " ('monkey', 'monkey'),\n",

       " ('panda', 'kitty'),\n",

       " ('monkey', 'kitty'),\n",

       " ('tea', 'monkey'),\n",

       " ('tea', 'kitty')]"

      ]

     },

     "execution_count": 28,

     "metadata": {},

     "output_type": "execute_result"

    }

   ],

   "source": [

    "#cartesian product\n",

    "#cartesian product is very expensive for large dataset\n",

    "rdd1.cartesian(rdd2).collect()"

   ]

  }

 ],

 "metadata": {

  "kernelspec": {

   "display_name": "Python 2",

   "language": "python",

   "name": "python2"

  },

  "language_info": {

   "codemirror_mode": {

    "name": "ipython",

    "version": 2

   },

   "file_extension": ".py",

   "mimetype": "text/x-python",

   "name": "python",

   "nbconvert_exporter": "python",

   "pygments_lexer": "ipython2",

   "version": "2.7.17"

  }

 },

 "nbformat": 4,

 "nbformat_minor": 2

}